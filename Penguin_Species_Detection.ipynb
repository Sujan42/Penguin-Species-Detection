{
 "cells": [
  {
   "cell_type": "markdown",
   "id": "a9ef9800",
   "metadata": {},
   "source": [
    "# Penguin Species Detection using Sklearn- By Sujan Neupane"
   ]
  },
  {
   "cell_type": "code",
   "execution_count": 2,
   "id": "4301250e",
   "metadata": {},
   "outputs": [],
   "source": [
    "# Lets import all our necessary libraries\n",
    "import numpy as np\n",
    "import matplotlib.pyplot as plt\n",
    "import scipy as sci\n",
    "import pandas as pd\n",
    "from sklearn.model_selection import train_test_split\n",
    "from sklearn.neighbors import KNeighborsClassifier"
   ]
  },
  {
   "cell_type": "code",
   "execution_count": 3,
   "id": "60a6de8b",
   "metadata": {},
   "outputs": [],
   "source": [
    "# Using pandas to read the data file\n",
    "penguins = pd.read_csv(\"https://gist.githubusercontent.com/slopp/ce3b90b9168f2f921784de84fa445651/raw/4ecf3041f0ed4913e7c230758733948bc561f434/penguins.csv\")"
   ]
  },
  {
   "cell_type": "code",
   "execution_count": 93,
   "id": "90040340",
   "metadata": {},
   "outputs": [
    {
     "data": {
      "text/plain": [
       "Index(['rowid', 'species', 'island', 'bill_length_mm', 'bill_depth_mm',\n",
       "       'flipper_length_mm', 'body_mass_g', 'sex', 'year'],\n",
       "      dtype='object')"
      ]
     },
     "execution_count": 93,
     "metadata": {},
     "output_type": "execute_result"
    }
   ],
   "source": [
    "penguins.columns"
   ]
  },
  {
   "cell_type": "code",
   "execution_count": 180,
   "id": "9a80fcf9",
   "metadata": {},
   "outputs": [
    {
     "data": {
      "text/html": [
       "<div>\n",
       "<style scoped>\n",
       "    .dataframe tbody tr th:only-of-type {\n",
       "        vertical-align: middle;\n",
       "    }\n",
       "\n",
       "    .dataframe tbody tr th {\n",
       "        vertical-align: top;\n",
       "    }\n",
       "\n",
       "    .dataframe thead th {\n",
       "        text-align: right;\n",
       "    }\n",
       "</style>\n",
       "<table border=\"1\" class=\"dataframe\">\n",
       "  <thead>\n",
       "    <tr style=\"text-align: right;\">\n",
       "      <th></th>\n",
       "      <th>rowid</th>\n",
       "      <th>species</th>\n",
       "      <th>island</th>\n",
       "      <th>bill_length_mm</th>\n",
       "      <th>bill_depth_mm</th>\n",
       "      <th>flipper_length_mm</th>\n",
       "      <th>body_mass_g</th>\n",
       "      <th>sex</th>\n",
       "      <th>year</th>\n",
       "    </tr>\n",
       "  </thead>\n",
       "  <tbody>\n",
       "    <tr>\n",
       "      <th>0</th>\n",
       "      <td>1</td>\n",
       "      <td>Adelie</td>\n",
       "      <td>Torgersen</td>\n",
       "      <td>39.1</td>\n",
       "      <td>18.7</td>\n",
       "      <td>181.0</td>\n",
       "      <td>3750.0</td>\n",
       "      <td>male</td>\n",
       "      <td>2007</td>\n",
       "    </tr>\n",
       "    <tr>\n",
       "      <th>1</th>\n",
       "      <td>2</td>\n",
       "      <td>Adelie</td>\n",
       "      <td>Torgersen</td>\n",
       "      <td>39.5</td>\n",
       "      <td>17.4</td>\n",
       "      <td>186.0</td>\n",
       "      <td>3800.0</td>\n",
       "      <td>female</td>\n",
       "      <td>2007</td>\n",
       "    </tr>\n",
       "    <tr>\n",
       "      <th>2</th>\n",
       "      <td>3</td>\n",
       "      <td>Adelie</td>\n",
       "      <td>Torgersen</td>\n",
       "      <td>40.3</td>\n",
       "      <td>18.0</td>\n",
       "      <td>195.0</td>\n",
       "      <td>3250.0</td>\n",
       "      <td>female</td>\n",
       "      <td>2007</td>\n",
       "    </tr>\n",
       "    <tr>\n",
       "      <th>4</th>\n",
       "      <td>5</td>\n",
       "      <td>Adelie</td>\n",
       "      <td>Torgersen</td>\n",
       "      <td>36.7</td>\n",
       "      <td>19.3</td>\n",
       "      <td>193.0</td>\n",
       "      <td>3450.0</td>\n",
       "      <td>female</td>\n",
       "      <td>2007</td>\n",
       "    </tr>\n",
       "    <tr>\n",
       "      <th>5</th>\n",
       "      <td>6</td>\n",
       "      <td>Adelie</td>\n",
       "      <td>Torgersen</td>\n",
       "      <td>39.3</td>\n",
       "      <td>20.6</td>\n",
       "      <td>190.0</td>\n",
       "      <td>3650.0</td>\n",
       "      <td>male</td>\n",
       "      <td>2007</td>\n",
       "    </tr>\n",
       "  </tbody>\n",
       "</table>\n",
       "</div>"
      ],
      "text/plain": [
       "   rowid species     island  bill_length_mm  bill_depth_mm  flipper_length_mm  \\\n",
       "0      1  Adelie  Torgersen            39.1           18.7              181.0   \n",
       "1      2  Adelie  Torgersen            39.5           17.4              186.0   \n",
       "2      3  Adelie  Torgersen            40.3           18.0              195.0   \n",
       "4      5  Adelie  Torgersen            36.7           19.3              193.0   \n",
       "5      6  Adelie  Torgersen            39.3           20.6              190.0   \n",
       "\n",
       "   body_mass_g     sex  year  \n",
       "0       3750.0    male  2007  \n",
       "1       3800.0  female  2007  \n",
       "2       3250.0  female  2007  \n",
       "4       3450.0  female  2007  \n",
       "5       3650.0    male  2007  "
      ]
     },
     "execution_count": 180,
     "metadata": {},
     "output_type": "execute_result"
    }
   ],
   "source": [
    "df = pd.DataFrame(penguins)\n",
    "df.dropna(inplace = True)\n",
    "df.head()"
   ]
  },
  {
   "cell_type": "code",
   "execution_count": 121,
   "id": "bdd90d3f",
   "metadata": {},
   "outputs": [
    {
     "data": {
      "text/plain": [
       "['Adelie', 'Gentoo', 'Chinstrap']"
      ]
     },
     "execution_count": 121,
     "metadata": {},
     "output_type": "execute_result"
    }
   ],
   "source": [
    "x = dict(df.species.value_counts())\n",
    "species = list(x)\n",
    "species"
   ]
  },
  {
   "cell_type": "code",
   "execution_count": 122,
   "id": "76b562cd",
   "metadata": {},
   "outputs": [],
   "source": [
    "feature_cols = ['bill_length_mm','bill_depth_mm','flipper_length_mm','body_mass_g']\n",
    "X = df[feature_cols].values\n",
    "y = list(df.species.values)"
   ]
  },
  {
   "cell_type": "code",
   "execution_count": 123,
   "id": "6b9d4914",
   "metadata": {},
   "outputs": [],
   "source": [
    "indexes = [0,1,2]\n",
    "y = np.array([indexes[species.index(i)] for i in y])"
   ]
  },
  {
   "cell_type": "code",
   "execution_count": 124,
   "id": "031e9265",
   "metadata": {},
   "outputs": [
    {
     "name": "stdout",
     "output_type": "stream",
     "text": [
      "(333, 4)\n",
      "(333,)\n"
     ]
    }
   ],
   "source": [
    "print(X.shape)\n",
    "print(y.shape)"
   ]
  },
  {
   "cell_type": "markdown",
   "id": "9d263aa2",
   "metadata": {},
   "source": [
    "# We will use KNN model for this problem \n",
    "    # TRAIN_TEST_SPLIT is used to simulate the prediction based on off-sample Data"
   ]
  },
  {
   "cell_type": "code",
   "execution_count": 125,
   "id": "1a58439a",
   "metadata": {},
   "outputs": [],
   "source": [
    "x_train,x_test,y_train,y_test = train_test_split(X,y,random_state = 1, test_size=0.5)"
   ]
  },
  {
   "cell_type": "code",
   "execution_count": 126,
   "id": "b68712e4",
   "metadata": {
    "scrolled": true
   },
   "outputs": [
    {
     "name": "stdout",
     "output_type": "stream",
     "text": [
      "(166, 4)\n",
      "(167, 4)\n",
      "(166,)\n",
      "(167,)\n"
     ]
    }
   ],
   "source": [
    "print(x_train.shape)\n",
    "print(x_test.shape)\n",
    "print(y_train.shape)\n",
    "print(y_test.shape)"
   ]
  },
  {
   "cell_type": "code",
   "execution_count": 143,
   "id": "9be484c4",
   "metadata": {},
   "outputs": [
    {
     "data": {
      "text/plain": [
       "KNeighborsClassifier(n_neighbors=1)"
      ]
     },
     "execution_count": 143,
     "metadata": {},
     "output_type": "execute_result"
    }
   ],
   "source": [
    "# When K = 1 \n",
    "knn = KNeighborsClassifier(n_neighbors = 1)\n",
    "knn.fit(x_train,y_train)"
   ]
  },
  {
   "cell_type": "code",
   "execution_count": 144,
   "id": "51485172",
   "metadata": {},
   "outputs": [
    {
     "data": {
      "text/plain": [
       "'Adelie'"
      ]
     },
     "execution_count": 144,
     "metadata": {},
     "output_type": "execute_result"
    }
   ],
   "source": [
    "pred = knn.predict([[39.1,18.7,181.0,3750.0]])\n",
    "species[int(pred)]"
   ]
  },
  {
   "cell_type": "code",
   "execution_count": 145,
   "id": "631ed930",
   "metadata": {},
   "outputs": [],
   "source": [
    "y_pred = knn.predict(x_test)"
   ]
  },
  {
   "cell_type": "code",
   "execution_count": 146,
   "id": "73bd8c10",
   "metadata": {},
   "outputs": [
    {
     "data": {
      "text/plain": [
       "0.7544910179640718"
      ]
     },
     "execution_count": 146,
     "metadata": {},
     "output_type": "execute_result"
    }
   ],
   "source": [
    "from sklearn import metrics\n",
    "metrics.accuracy_score(y_test,y_pred)"
   ]
  },
  {
   "cell_type": "code",
   "execution_count": 147,
   "id": "2fb46a00",
   "metadata": {},
   "outputs": [
    {
     "data": {
      "text/plain": [
       "0.7245508982035929"
      ]
     },
     "execution_count": 147,
     "metadata": {},
     "output_type": "execute_result"
    }
   ],
   "source": [
    "# When k = 5\n",
    "knn = KNeighborsClassifier(n_neighbors = 5)\n",
    "knn.fit(x_train,y_train)\n",
    "y_pred = knn.predict(x_test)\n",
    "metrics.accuracy_score(y_test,y_pred)"
   ]
  },
  {
   "cell_type": "markdown",
   "id": "41ab04ef",
   "metadata": {},
   "source": [
    "# Lets find out the best value of k"
   ]
  },
  {
   "cell_type": "code",
   "execution_count": 150,
   "id": "0d390f99",
   "metadata": {},
   "outputs": [],
   "source": [
    "score = []\n",
    "for i in range(1,25):\n",
    "    knn = KNeighborsClassifier(n_neighbors = i)\n",
    "    knn.fit(x_train,y_train)\n",
    "    y_pred = knn.predict(x_test)\n",
    "    score.append(metrics.accuracy_score(y_test,y_pred))"
   ]
  },
  {
   "cell_type": "code",
   "execution_count": 153,
   "id": "79f600bf",
   "metadata": {},
   "outputs": [
    {
     "data": {
      "text/plain": [
       "0.7150698602794412"
      ]
     },
     "execution_count": 153,
     "metadata": {},
     "output_type": "execute_result"
    }
   ],
   "source": [
    "np.array(score).mean()"
   ]
  },
  {
   "cell_type": "code",
   "execution_count": 155,
   "id": "8bc509d5",
   "metadata": {},
   "outputs": [
    {
     "data": {
      "text/plain": [
       "0"
      ]
     },
     "execution_count": 155,
     "metadata": {},
     "output_type": "execute_result"
    }
   ],
   "source": [
    "score.index(max(score))"
   ]
  },
  {
   "cell_type": "code",
   "execution_count": 172,
   "id": "ac7c6d6f",
   "metadata": {},
   "outputs": [
    {
     "name": "stdout",
     "output_type": "stream",
     "text": [
      "when k = 1 ,the accuracy is highest for this model\n"
     ]
    }
   ],
   "source": [
    "print('when k = '+str(score.index(max(score))+1)+ ' ,the accuracy is highest for this model')"
   ]
  },
  {
   "cell_type": "code",
   "execution_count": 159,
   "id": "6d606f39",
   "metadata": {},
   "outputs": [
    {
     "data": {
      "image/png": "[encoded data removed]",
      "text/plain": [
       "<Figure size 432x288 with 1 Axes>"
      ]
     },
     "metadata": {
      "needs_background": "light"
     },
     "output_type": "display_data"
    }
   ],
   "source": [
    "plt.plot(range(1,25),score,color='red')\n",
    "plt.title('Values of K v/s The Accuracy of the model')\n",
    "plt.xlabel('Values of k')\n",
    "plt.ylabel('Accuracy Measured')\n",
    "plt.show()"
   ]
  },
  {
   "cell_type": "markdown",
   "id": "b4097588",
   "metadata": {},
   "source": [
    "Our best accuracy for this module is 75.5 % at the best, which is not so good. "
   ]
  },
  {
   "cell_type": "code",
   "execution_count": 165,
   "id": "b26735da",
   "metadata": {},
   "outputs": [
    {
     "name": "stdout",
     "output_type": "stream",
     "text": [
      "[3750.0, 3800.0, 3250.0, 3450.0, 3650.0, 3625.0, 4675.0, 3200.0, 3800.0, 4400.0, 3700.0, 3450.0, 4500.0, 3325.0, 4200.0, 3400.0, 3600.0, 3800.0, 3950.0, 3800.0]\n"
     ]
    }
   ],
   "source": [
    "print(list(df.body_mass_g)[0:20])"
   ]
  },
  {
   "cell_type": "markdown",
   "id": "3be5f983",
   "metadata": {},
   "source": [
    "What if we don't use the weight column, as we can clearly see from above data that the body mass has comparatively\n",
    "high variance than other properties"
   ]
  },
  {
   "cell_type": "markdown",
   "id": "2140ff0c",
   "metadata": {},
   "source": [
    "# So, lets see by excluding body mass"
   ]
  },
  {
   "cell_type": "code",
   "execution_count": 166,
   "id": "ecbab35a",
   "metadata": {},
   "outputs": [],
   "source": [
    "feature_cols = ['bill_length_mm','bill_depth_mm','flipper_length_mm']\n",
    "X = df[feature_cols].values"
   ]
  },
  {
   "cell_type": "code",
   "execution_count": 167,
   "id": "e1645e0c",
   "metadata": {},
   "outputs": [],
   "source": [
    "x_train,x_test,y_train,y_test = train_test_split(X,y,random_state = 1, test_size=0.5)"
   ]
  },
  {
   "cell_type": "code",
   "execution_count": 168,
   "id": "0a0524e0",
   "metadata": {},
   "outputs": [
    {
     "name": "stdout",
     "output_type": "stream",
     "text": [
      "(166, 3)\n",
      "(167, 3)\n",
      "(166,)\n",
      "(167,)\n"
     ]
    }
   ],
   "source": [
    "print(x_train.shape)\n",
    "print(x_test.shape)\n",
    "print(y_train.shape)\n",
    "print(y_test.shape)"
   ]
  },
  {
   "cell_type": "code",
   "execution_count": 169,
   "id": "65eec0de",
   "metadata": {},
   "outputs": [
    {
     "data": {
      "text/plain": [
       "KNeighborsClassifier(n_neighbors=1)"
      ]
     },
     "execution_count": 169,
     "metadata": {},
     "output_type": "execute_result"
    }
   ],
   "source": [
    "# When K = 1 \n",
    "knn = KNeighborsClassifier(n_neighbors = 1)\n",
    "knn.fit(x_train,y_train)"
   ]
  },
  {
   "cell_type": "code",
   "execution_count": 170,
   "id": "e7c522a9",
   "metadata": {},
   "outputs": [
    {
     "data": {
      "text/plain": [
       "0.9520958083832335"
      ]
     },
     "execution_count": 170,
     "metadata": {},
     "output_type": "execute_result"
    }
   ],
   "source": [
    "y_pred = knn.predict(x_test)\n",
    "from sklearn import metrics\n",
    "metrics.accuracy_score(y_test,y_pred)"
   ]
  },
  {
   "cell_type": "markdown",
   "id": "ac2a1733",
   "metadata": {},
   "source": [
    "While including body mass, we achieved 75 % accuracy at most and\n",
    "K=1; However, We achieved accuracy over 95 % while excluding mody mass when k =1. So, let's measure our highest accuracy of this updated model with respect to different values of k"
   ]
  },
  {
   "cell_type": "markdown",
   "id": "3fc17419",
   "metadata": {},
   "source": [
    "# Lets find out the best value of k"
   ]
  },
  {
   "cell_type": "code",
   "execution_count": 174,
   "id": "49845977",
   "metadata": {},
   "outputs": [],
   "source": [
    "score = []\n",
    "for i in range(1,25):\n",
    "    knn = KNeighborsClassifier(n_neighbors = i)\n",
    "    knn.fit(x_train,y_train)\n",
    "    y_pred = knn.predict(x_test)\n",
    "    score.append(metrics.accuracy_score(y_test,y_pred))"
   ]
  },
  {
   "cell_type": "code",
   "execution_count": 175,
   "id": "56e8a6e9",
   "metadata": {},
   "outputs": [
    {
     "name": "stdout",
     "output_type": "stream",
     "text": [
      "when k = 1 ,the accuracy is highest for this model\n"
     ]
    }
   ],
   "source": [
    "print('when k = '+str(score.index(max(score))+1)+ ' ,the accuracy is highest for this model')"
   ]
  },
  {
   "cell_type": "markdown",
   "id": "2cbe2c57",
   "metadata": {},
   "source": [
    "# Well, the updated model is also most accurate when k =1"
   ]
  },
  {
   "cell_type": "code",
   "execution_count": 179,
   "id": "9e638b05",
   "metadata": {},
   "outputs": [
    {
     "data": {
      "image/png": "[encoded data removed]",
      "text/plain": [
       "<Figure size 432x288 with 1 Axes>"
      ]
     },
     "metadata": {
      "needs_background": "light"
     },
     "output_type": "display_data"
    }
   ],
   "source": [
    "# Lets plot the new accuracies in graph\n",
    "plt.plot(range(1,25),score,color='blue')\n",
    "plt.title('Values of K v/s The Accuracy of the model')\n",
    "plt.xlabel('Values of k')\n",
    "plt.ylabel('Accuracy Measured')\n",
    "plt.show()"
   ]
  },
  {
   "cell_type": "markdown",
   "id": "b7a89413",
   "metadata": {},
   "source": [
    "Hence, it is best concluded that this model is most accurate when k=1, and when body mass property is excluded respectively."
   ]
  },
  {
   "cell_type": "markdown",
   "id": "a77d095a",
   "metadata": {},
   "source": [
    "# Lets use cross validation instead of train_test_split"
   ]
  },
  {
   "cell_type": "code",
   "execution_count": 183,
   "id": "07074c8a",
   "metadata": {},
   "outputs": [
    {
     "data": {
      "text/plain": [
       "array([0.91176471, 1.        , 0.97058824, 1.        , 0.90909091,\n",
       "       0.96969697, 1.        , 0.96969697, 0.93939394, 0.96969697])"
      ]
     },
     "execution_count": 183,
     "metadata": {},
     "output_type": "execute_result"
    }
   ],
   "source": [
    "from sklearn.model_selection import cross_val_score\n",
    "knn = KNeighborsClassifier(n_neighbors = 5)\n",
    "scores = cross_val_score(knn,X,y, cv=10,scoring='accuracy')\n",
    "scores"
   ]
  },
  {
   "cell_type": "code",
   "execution_count": 184,
   "id": "39e6b882",
   "metadata": {},
   "outputs": [
    {
     "data": {
      "text/plain": [
       "0.9639928698752229"
      ]
     },
     "execution_count": 184,
     "metadata": {},
     "output_type": "execute_result"
    }
   ],
   "source": [
    "scores.mean()"
   ]
  },
  {
   "cell_type": "code",
   "execution_count": 185,
   "id": "9a4baf51",
   "metadata": {},
   "outputs": [
    {
     "name": "stdout",
     "output_type": "stream",
     "text": [
      "[0.9670231729055259, 0.9700534759358288, 0.967023172905526, 0.9699643493761141, 0.9639928698752229, 0.9549019607843136, 0.9579322638146166, 0.9549019607843137, 0.9518716577540106, 0.9488413547237077, 0.9518716577540107, 0.9488413547237077, 0.9488413547237077, 0.9458110516934045, 0.9488413547237077, 0.9457219251336898, 0.9427807486631016, 0.9457219251336898, 0.9427807486631016, 0.9426916221033869, 0.9457219251336898, 0.9457219251336898, 0.9427807486631016, 0.9427807486631016, 0.9427807486631016, 0.9427807486631016, 0.9427807486631016, 0.9398395721925134, 0.9457219251336898, 0.9458110516934047]\n"
     ]
    }
   ],
   "source": [
    "# Now, lets search for the best value of k\n",
    "k_scores = []\n",
    "for i in range(1,31):\n",
    "    knn = KNeighborsClassifier(n_neighbors = i)\n",
    "    scores = cross_val_score(knn,X,y, cv=10,scoring='accuracy')\n",
    "    k_scores.append(scores.mean())\n",
    "print(k_scores)"
   ]
  },
  {
   "cell_type": "code",
   "execution_count": 186,
   "id": "08151d09",
   "metadata": {},
   "outputs": [
    {
     "name": "stdout",
     "output_type": "stream",
     "text": [
      "2\n"
     ]
    }
   ],
   "source": [
    "print(k_scores.index(max(k_scores))+1)"
   ]
  },
  {
   "cell_type": "code",
   "execution_count": 190,
   "id": "01d22ff5",
   "metadata": {},
   "outputs": [
    {
     "name": "stdout",
     "output_type": "stream",
     "text": [
      "when k = 2 ,the accuracy is highest for this model using cross-validation.\n"
     ]
    }
   ],
   "source": [
    "print('when k = '+str(k_scores.index(max(k_scores))+1)+ ' ,the accuracy is highest for this model using cross-validation.')"
   ]
  },
  {
   "cell_type": "code",
   "execution_count": 192,
   "id": "6c7ab9c7",
   "metadata": {},
   "outputs": [
    {
     "data": {
      "image/png": "[encoded data removed]",
      "text/plain": [
       "<Figure size 432x288 with 1 Axes>"
      ]
     },
     "metadata": {
      "needs_background": "light"
     },
     "output_type": "display_data"
    }
   ],
   "source": [
    "import matplotlib.pyplot as plt\n",
    "#plot the value of k for KNN (x-axis) versus the cross-validated accuracy (y-axis)\n",
    "plt.plot(range(1,31),k_scores,color='green')\n",
    "plt.xlabel(\"Value of k for knn\")\n",
    "plt.ylabel(\"Cross-Validated Accuracy\")\n",
    "plt.show()"
   ]
  },
  {
   "cell_type": "markdown",
   "id": "33aaaea2",
   "metadata": {},
   "source": [
    "# Thank you"
   ]
  }
 ],
 "metadata": {
  "kernelspec": {
   "display_name": "Python 3",
   "language": "python",
   "name": "python3"
  },
  "language_info": {
   "codemirror_mode": {
    "name": "ipython",
    "version": 3
   },
   "file_extension": ".py",
   "mimetype": "text/x-python",
   "name": "python",
   "nbconvert_exporter": "python",
   "pygments_lexer": "ipython3",
   "version": "3.8.8"
  }
 },
 "nbformat": 4,
 "nbformat_minor": 5
}
